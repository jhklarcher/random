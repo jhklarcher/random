{
  "nbformat": 4,
  "nbformat_minor": 0,
  "metadata": {
    "colab": {
      "name": "ESC-50.ipynb",
      "provenance": [],
      "collapsed_sections": [],
      "mount_file_id": "1-u1mD3qnldYBRX5Ixllz8r53R33Thb20",
      "authorship_tag": "ABX9TyP4FIAnXpNTWxG1TDeFM3Jj"
    },
    "kernelspec": {
      "name": "python3",
      "display_name": "Python 3"
    },
    "accelerator": "GPU"
  },
  "cells": [
    {
      "cell_type": "code",
      "metadata": {
        "id": "s06BYvDc9p6L",
        "colab_type": "code",
        "colab": {}
      },
      "source": [
        "import pandas as pd\n",
        "import numpy as np\n",
        "import joblib\n",
        "from sklearn.preprocessing import normalize\n",
        "\n",
        "df = pd.read_csv('./drive/My Drive/data/esc-50/meta/esc50.csv')\n",
        "x_mfcc_mean = joblib.load('./drive/My Drive/data/esc-50/x_mfcc_mean.pkl')\n",
        "x_spec_mean = joblib.load('./drive/My Drive/data/esc-50/x_spec_mean.pkl')\n",
        "x_mfcc = joblib.load('./drive/My Drive/data/esc-50/x_mfcc.pkl')\n",
        "x_spec = joblib.load('./drive/My Drive/data/esc-50/x_spec.pkl')\n",
        "x_mfcc_feat = joblib.load('./drive/My Drive/data/esc-50/x_mfcc_feat.pkl')\n",
        "\n",
        "X = np.concatenate((x_mfcc_mean, x_spec_mean, x_mfcc, x_spec), axis=1)\n",
        "y = df['category']"
      ],
      "execution_count": 0,
      "outputs": []
    },
    {
      "cell_type": "code",
      "metadata": {
        "id": "99tCAANV_zg6",
        "colab_type": "code",
        "colab": {}
      },
      "source": [
        "from sklearn.model_selection import train_test_split\n",
        "X_train, X_test, y_train, y_test = train_test_split(X, y,test_size = 0.1)"
      ],
      "execution_count": 0,
      "outputs": []
    },
    {
      "cell_type": "code",
      "metadata": {
        "id": "KjtqBa9PAOP6",
        "colab_type": "code",
        "colab": {}
      },
      "source": [
        "from sklearn.ensemble import RandomForestClassifier"
      ],
      "execution_count": 0,
      "outputs": []
    },
    {
      "cell_type": "code",
      "metadata": {
        "id": "cyUNb5n1AO8Q",
        "colab_type": "code",
        "outputId": "42c8bd5d-5e2a-4172-b7c9-306c551855d0",
        "colab": {
          "base_uri": "https://localhost:8080/",
          "height": 34
        }
      },
      "source": [
        "rf_1 = RandomForestClassifier(max_depth = 72,\n",
        "                            n_estimators = 1234,\n",
        "                            min_samples_split = 2,\n",
        "                            min_samples_leaf = 1,\n",
        "                            n_jobs=-1)\n",
        "\n",
        "rf_1.fit(X_train[:,:40], y_train)\n",
        "p_1 = rf_1.predict_proba(X_train[:,:40])\n",
        "p_1_test = rf_1.predict_proba(X_test[:,:40])\n",
        "rf_1.score(X_test[:,:40], y_test)"
      ],
      "execution_count": 4,
      "outputs": [
        {
          "output_type": "execute_result",
          "data": {
            "text/plain": [
              "0.535"
            ]
          },
          "metadata": {
            "tags": []
          },
          "execution_count": 4
        }
      ]
    },
    {
      "cell_type": "code",
      "metadata": {
        "id": "k0m0etF4ApxA",
        "colab_type": "code",
        "outputId": "1abf45f7-0dec-4ed6-f3f0-189ecc5459fc",
        "colab": {
          "base_uri": "https://localhost:8080/",
          "height": 34
        }
      },
      "source": [
        "rf_2 = RandomForestClassifier(max_depth = 200, n_jobs=-1, n_estimators=1000)\n",
        "\n",
        "rf_2.fit(X_train[:,40:168], y_train)\n",
        "p_2 = rf_2.predict_proba(X_train[:,40:168])\n",
        "p_2_test = rf_2.predict_proba(X_test[:,40:168])\n",
        "rf_2.score(X_test[:,40:168], y_test)"
      ],
      "execution_count": 5,
      "outputs": [
        {
          "output_type": "execute_result",
          "data": {
            "text/plain": [
              "0.445"
            ]
          },
          "metadata": {
            "tags": []
          },
          "execution_count": 5
        }
      ]
    },
    {
      "cell_type": "code",
      "metadata": {
        "id": "gdcFXDjrHdtM",
        "colab_type": "code",
        "outputId": "61bbf2b0-46f2-4887-9eaa-6d5c223c283d",
        "colab": {
          "base_uri": "https://localhost:8080/",
          "height": 34
        }
      },
      "source": [
        "rf_3 = RandomForestClassifier(n_jobs=-1, n_estimators=1000)\n",
        "\n",
        "rf_3.fit(X_train[:, 168:8808], y_train)\n",
        "p_3 = rf_3.predict_proba(X_train[:, 168:8808])\n",
        "p_3_test = rf_3.predict_proba(X_test[:, 168:8808])\n",
        "rf_3.score(X_test[:, 168:8808], y_test)"
      ],
      "execution_count": 6,
      "outputs": [
        {
          "output_type": "execute_result",
          "data": {
            "text/plain": [
              "0.495"
            ]
          },
          "metadata": {
            "tags": []
          },
          "execution_count": 6
        }
      ]
    },
    {
      "cell_type": "code",
      "metadata": {
        "id": "yEdUnTWiWwvR",
        "colab_type": "code",
        "outputId": "0274584a-c934-464f-8466-fcfa5904ee20",
        "colab": {
          "base_uri": "https://localhost:8080/",
          "height": 34
        }
      },
      "source": [
        "rf_4 = RandomForestClassifier(n_jobs=-1, n_estimators=1000)\n",
        "\n",
        "rf_4.fit(X_train[:, 8808:], y_train)\n",
        "p_4 = rf_4.predict_proba(X_train[:, 8808:])\n",
        "p_4_test = rf_4.predict_proba(X_test[:, 8808:])\n",
        "rf_4.score(X_test[:, 8808:], y_test)"
      ],
      "execution_count": 7,
      "outputs": [
        {
          "output_type": "execute_result",
          "data": {
            "text/plain": [
              "0.435"
            ]
          },
          "metadata": {
            "tags": []
          },
          "execution_count": 7
        }
      ]
    },
    {
      "cell_type": "code",
      "metadata": {
        "id": "ITzH-j8NW9p_",
        "colab_type": "code",
        "outputId": "6f08afea-fe0b-4c56-9b8e-c69da1bad5dc",
        "colab": {
          "base_uri": "https://localhost:8080/",
          "height": 34
        }
      },
      "source": [
        "rf_5 = RandomForestClassifier(n_jobs=-1, n_estimators=1000)\n",
        "\n",
        "rf_5.fit(X_train, y_train)\n",
        "p_5 = rf_5.predict_proba(X_train)\n",
        "p_5_test = rf_5.predict_proba(X_test)\n",
        "rf_5.score(X_test, y_test)"
      ],
      "execution_count": 8,
      "outputs": [
        {
          "output_type": "execute_result",
          "data": {
            "text/plain": [
              "0.485"
            ]
          },
          "metadata": {
            "tags": []
          },
          "execution_count": 8
        }
      ]
    },
    {
      "cell_type": "code",
      "metadata": {
        "id": "H6lKLZEoII3l",
        "colab_type": "code",
        "colab": {}
      },
      "source": [
        "p_train = np.concatenate((p_1, p_2, p_3, p_4, p_5), axis=1)\n",
        "p_test = np.concatenate((p_1_test, p_2_test, p_3_test, p_4_test, p_5_test), axis=1)"
      ],
      "execution_count": 0,
      "outputs": []
    },
    {
      "cell_type": "code",
      "metadata": {
        "id": "N_IJuTg0wxuI",
        "colab_type": "code",
        "outputId": "44e96bec-2351-4121-9668-5df01fe7a398",
        "colab": {
          "base_uri": "https://localhost:8080/",
          "height": 34
        }
      },
      "source": [
        "rf = RandomForestClassifier(n_jobs=-1, n_estimators=1000)\n",
        "\n",
        "rf.fit(p_train, y_train)\n",
        "rf.score(p_test, y_test)"
      ],
      "execution_count": 10,
      "outputs": [
        {
          "output_type": "execute_result",
          "data": {
            "text/plain": [
              "0.345"
            ]
          },
          "metadata": {
            "tags": []
          },
          "execution_count": 10
        }
      ]
    },
    {
      "cell_type": "code",
      "metadata": {
        "id": "9m_InrzFw73f",
        "colab_type": "code",
        "outputId": "ae0e0410-272f-4ada-ddc3-9f925bf4ec33",
        "colab": {
          "base_uri": "https://localhost:8080/",
          "height": 34
        }
      },
      "source": [
        "p_2_test.shape"
      ],
      "execution_count": 11,
      "outputs": [
        {
          "output_type": "execute_result",
          "data": {
            "text/plain": [
              "(200, 50)"
            ]
          },
          "metadata": {
            "tags": []
          },
          "execution_count": 11
        }
      ]
    },
    {
      "cell_type": "code",
      "metadata": {
        "id": "IScHnXd3JuXk",
        "colab_type": "code",
        "colab": {
          "base_uri": "https://localhost:8080/",
          "height": 245
        },
        "outputId": "13d3f598-9d34-4ddd-f26a-f9ffd7dd150b"
      },
      "source": [
        "!pip install scikit-optimize\n",
        "from skopt import gp_minimize\n",
        "from lightgbm import LGBMClassifier\n",
        "from sklearn.metrics import accuracy_score\n",
        "\n",
        "\n",
        "def treinar_modelo(params):\n",
        "    learning_rate = params[0]\n",
        "    num_leaves = params[1]\n",
        "    min_child_samples = params[2]\n",
        "    subsample = params[3]\n",
        "    colsample_bytree = params[4]\n",
        "    \n",
        "    print(params, '\\n')\n",
        "    \n",
        "    mdl = LGBMClassifier(learning_rate=learning_rate,\n",
        "                         num_leaves=num_leaves,\n",
        "                         min_child_samples=min_child_samples,\n",
        "                         subsample=subsample,\n",
        "                         colsample_bytree=colsample_bytree,\n",
        "                         random_state=0,\n",
        "                         subsample_freq=1,\n",
        "                         n_estimators=100)\n",
        "    mdl.fit(X_train[:,40:168], y_train)\n",
        "    \n",
        "    y_pred = mdl.predict(X_test[:,40:168])\n",
        "    \n",
        "    return -accuracy_score(y_test,y_pred)"
      ],
      "execution_count": 12,
      "outputs": [
        {
          "output_type": "stream",
          "text": [
            "Collecting scikit-optimize\n",
            "\u001b[?25l  Downloading https://files.pythonhosted.org/packages/5c/87/310b52debfbc0cb79764e5770fa3f5c18f6f0754809ea9e2fc185e1b67d3/scikit_optimize-0.7.4-py2.py3-none-any.whl (80kB)\n",
            "\r\u001b[K     |████                            | 10kB 30.1MB/s eta 0:00:01\r\u001b[K     |████████▏                       | 20kB 1.7MB/s eta 0:00:01\r\u001b[K     |████████████▎                   | 30kB 2.6MB/s eta 0:00:01\r\u001b[K     |████████████████▎               | 40kB 1.7MB/s eta 0:00:01\r\u001b[K     |████████████████████▍           | 51kB 2.1MB/s eta 0:00:01\r\u001b[K     |████████████████████████▌       | 61kB 2.5MB/s eta 0:00:01\r\u001b[K     |████████████████████████████▌   | 71kB 2.9MB/s eta 0:00:01\r\u001b[K     |████████████████████████████████| 81kB 2.7MB/s \n",
            "\u001b[?25hRequirement already satisfied: joblib>=0.11 in /usr/local/lib/python3.6/dist-packages (from scikit-optimize) (0.14.1)\n",
            "Requirement already satisfied: scikit-learn>=0.19.1 in /usr/local/lib/python3.6/dist-packages (from scikit-optimize) (0.22.1)\n",
            "Collecting pyaml>=16.9\n",
            "  Downloading https://files.pythonhosted.org/packages/35/1e/eda9fe07f752ced7afcef590e7d74390f0d9c9c0b7ff98317afbaa0697e3/pyaml-19.12.0-py2.py3-none-any.whl\n",
            "Requirement already satisfied: scipy>=0.18.0 in /usr/local/lib/python3.6/dist-packages (from scikit-optimize) (1.4.1)\n",
            "Requirement already satisfied: numpy>=1.11.0 in /usr/local/lib/python3.6/dist-packages (from scikit-optimize) (1.17.5)\n",
            "Requirement already satisfied: PyYAML in /usr/local/lib/python3.6/dist-packages (from pyaml>=16.9->scikit-optimize) (3.13)\n",
            "Installing collected packages: pyaml, scikit-optimize\n",
            "Successfully installed pyaml-19.12.0 scikit-optimize-0.7.4\n"
          ],
          "name": "stdout"
        }
      ]
    },
    {
      "cell_type": "code",
      "metadata": {
        "id": "jbDeubtgJ9qh",
        "colab_type": "code",
        "colab": {
          "base_uri": "https://localhost:8080/",
          "height": 1000
        },
        "outputId": "2101ba33-5cc4-4aaa-bad3-7b8c04bff7ae"
      },
      "source": [
        "space = [(1e-3, 1e-1, 'log-uniform'), #learning rate\n",
        "         (2, 128), # num_leaves\n",
        "         (1, 100), # min_child_samples\n",
        "         (0.05, 1.0), # subsample\n",
        "         (0.1, 1.0)] # colsample bytree\n",
        "\n",
        "\n",
        "resultados_gp = gp_minimize(treinar_modelo, space, random_state=1, verbose=1, n_calls=60, n_random_starts=10)"
      ],
      "execution_count": 0,
      "outputs": [
        {
          "output_type": "stream",
          "text": [
            "Iteration No: 1 started. Evaluating function at random point.\n",
            "[0.09871192514273254, 120, 14, 0.9990884895579377, 0.3124800792567785] \n",
            "\n",
            "Iteration No: 1 ended. Evaluation done at random point.\n",
            "Time taken: 59.7461\n",
            "Function value obtained: -0.4350\n",
            "Current minimum: -0.4350\n",
            "Iteration No: 2 started. Evaluating function at random point.\n",
            "[0.006210998932353835, 51, 67, 0.9387621172657304, 0.8616798250174156] \n",
            "\n",
            "Iteration No: 2 ended. Evaluation done at random point.\n",
            "Time taken: 34.2171\n",
            "Function value obtained: -0.3250\n",
            "Current minimum: -0.4350\n",
            "Iteration No: 3 started. Evaluating function at random point.\n",
            "[0.004232013397179603, 68, 45, 0.2680983530433343, 0.5809725180523154] \n",
            "\n",
            "Iteration No: 3 ended. Evaluation done at random point.\n",
            "Time taken: 10.5448\n",
            "Function value obtained: -0.2650\n",
            "Current minimum: -0.4350\n",
            "Iteration No: 4 started. Evaluating function at random point.\n",
            "[0.0672858974212934, 60, 44, 0.9421713999524447, 0.8005503127028804] \n",
            "\n",
            "Iteration No: 4 ended. Evaluation done at random point.\n",
            "Time taken: 46.3010\n",
            "Function value obtained: -0.4100\n",
            "Current minimum: -0.4350\n",
            "Iteration No: 5 started. Evaluating function at random point.\n",
            "[0.027035912483147396, 103, 10, 0.5422449214947946, 0.8785182267810853] \n",
            "\n",
            "Iteration No: 5 ended. Evaluation done at random point.\n",
            "Time taken: 121.5904\n",
            "Function value obtained: -0.4400\n",
            "Current minimum: -0.4400\n",
            "Iteration No: 6 started. Evaluating function at random point.\n",
            "[0.045529597892867466, 107, 28, 0.1062810412364853, 0.7034752360620511] \n",
            "\n",
            "Iteration No: 6 ended. Evaluation done at random point.\n",
            "Time taken: 7.6792\n",
            "Function value obtained: -0.3650\n",
            "Current minimum: -0.4400\n",
            "Iteration No: 7 started. Evaluating function at random point.\n",
            "[0.01535080081765723, 87, 42, 0.23767335308554222, 0.3606666764912312] \n",
            "\n",
            "Iteration No: 7 ended. Evaluation done at random point.\n",
            "Time taken: 6.9059\n",
            "Function value obtained: -0.3150\n",
            "Current minimum: -0.4400\n",
            "Iteration No: 8 started. Evaluating function at random point.\n",
            "[0.0019241559628256106, 101, 42, 0.0824627456265471, 0.661626987829618] \n",
            "\n",
            "Iteration No: 8 ended. Evaluation done at random point.\n",
            "Time taken: 3.1334\n",
            "Function value obtained: -0.0150\n",
            "Current minimum: -0.4400\n",
            "Iteration No: 9 started. Evaluating function at random point.\n",
            "[0.02095421812724112, 40, 45, 0.2610183201586061, 0.16602775456833962] \n",
            "\n",
            "Iteration No: 9 ended. Evaluation done at random point.\n",
            "Time taken: 4.0279\n",
            "Function value obtained: -0.3250\n",
            "Current minimum: -0.4400\n",
            "Iteration No: 10 started. Evaluating function at random point.\n",
            "[0.008679147174590262, 14, 90, 0.163515944581681, 0.5723194391834011] \n",
            "\n",
            "Iteration No: 10 ended. Evaluation done at random point.\n",
            "Time taken: 3.2982\n",
            "Function value obtained: -0.1650\n",
            "Current minimum: -0.4400\n",
            "Iteration No: 11 started. Searching for the next optimal point.\n",
            "[0.001, 128, 1, 0.6130424462571067, 0.2502219331817018] \n",
            "\n",
            "Iteration No: 11 ended. Search finished for the next optimal point.\n",
            "Time taken: 104.4392\n",
            "Function value obtained: -0.4100\n",
            "Current minimum: -0.4400\n",
            "Iteration No: 12 started. Searching for the next optimal point.\n",
            "[0.01183484910100987, 128, 1, 0.5398618482943008, 1.0] \n",
            "\n",
            "Iteration No: 12 ended. Search finished for the next optimal point.\n",
            "Time taken: 379.1223\n",
            "Function value obtained: -0.3950\n",
            "Current minimum: -0.4400\n",
            "Iteration No: 13 started. Searching for the next optimal point.\n",
            "[0.1, 128, 100, 0.6575262908520414, 0.2131278196904559] \n",
            "\n",
            "Iteration No: 13 ended. Search finished for the next optimal point.\n",
            "Time taken: 5.9892\n",
            "Function value obtained: -0.4300\n",
            "Current minimum: -0.4400\n",
            "Iteration No: 14 started. Searching for the next optimal point.\n",
            "[0.05004628276225512, 100, 9, 0.5405083619977314, 0.7681627444300027] \n",
            "\n",
            "Iteration No: 14 ended. Search finished for the next optimal point.\n",
            "Time taken: 119.7097\n",
            "Function value obtained: -0.4050\n",
            "Current minimum: -0.4400\n",
            "Iteration No: 15 started. Searching for the next optimal point.\n",
            "[0.1, 128, 1, 0.2774111196471239, 1.0] \n",
            "\n",
            "Iteration No: 15 ended. Search finished for the next optimal point.\n",
            "Time taken: 41.5683\n",
            "Function value obtained: -0.0850\n",
            "Current minimum: -0.4400\n",
            "Iteration No: 16 started. Searching for the next optimal point.\n",
            "[0.001096722109394298, 98, 1, 0.5535034349215163, 0.25228975091332484] \n",
            "\n",
            "Iteration No: 16 ended. Search finished for the next optimal point.\n",
            "Time taken: 79.2133\n",
            "Function value obtained: -0.4050\n",
            "Current minimum: -0.4400\n",
            "Iteration No: 17 started. Searching for the next optimal point.\n",
            "[0.030948797594683133, 25, 98, 0.6673251012747349, 0.1428807776839804] \n",
            "\n",
            "Iteration No: 17 ended. Search finished for the next optimal point.\n",
            "Time taken: 4.7269\n",
            "Function value obtained: -0.3450\n",
            "Current minimum: -0.4400\n",
            "Iteration No: 18 started. Searching for the next optimal point.\n",
            "[0.1, 111, 35, 0.7942123421909041, 0.1069118387053411] \n",
            "\n",
            "Iteration No: 18 ended. Search finished for the next optimal point.\n",
            "Time taken: 10.1063\n",
            "Function value obtained: -0.4300\n",
            "Current minimum: -0.4400\n",
            "Iteration No: 19 started. Searching for the next optimal point.\n",
            "[0.001, 118, 21, 0.8415769478638059, 0.11948536410979274] \n",
            "\n",
            "Iteration No: 19 ended. Search finished for the next optimal point.\n",
            "Time taken: 18.4151\n",
            "Function value obtained: -0.3450\n",
            "Current minimum: -0.4400\n",
            "Iteration No: 20 started. Searching for the next optimal point.\n",
            "[0.015926384121022576, 108, 95, 0.43943758679853473, 0.9826753057006468] \n",
            "\n",
            "Iteration No: 20 ended. Search finished for the next optimal point.\n",
            "Time taken: 13.7879\n",
            "Function value obtained: -0.3050\n",
            "Current minimum: -0.4400\n",
            "Iteration No: 21 started. Searching for the next optimal point.\n",
            "[0.044207254943262005, 126, 1, 0.6655265252246538, 0.7749663221446246] \n",
            "\n",
            "Iteration No: 21 ended. Search finished for the next optimal point.\n",
            "Time taken: 295.4166\n",
            "Function value obtained: -0.3900\n",
            "Current minimum: -0.4400\n",
            "Iteration No: 22 started. Searching for the next optimal point.\n",
            "[0.001, 126, 93, 1.0, 1.0] \n",
            "\n",
            "Iteration No: 22 ended. Search finished for the next optimal point.\n",
            "Time taken: 32.7319\n",
            "Function value obtained: -0.2000\n",
            "Current minimum: -0.4400\n",
            "Iteration No: 23 started. Searching for the next optimal point.\n",
            "[0.1, 128, 7, 0.7161647075563644, 1.0] \n",
            "\n",
            "Iteration No: 23 ended. Search finished for the next optimal point.\n",
            "Time taken: 252.8893\n",
            "Function value obtained: -0.3900\n",
            "Current minimum: -0.4400\n",
            "Iteration No: 24 started. Searching for the next optimal point.\n",
            "[0.001, 2, 73, 0.41021772194364997, 0.5990358876348291] \n",
            "\n",
            "Iteration No: 24 ended. Search finished for the next optimal point.\n",
            "Time taken: 3.2503\n",
            "Function value obtained: -0.0850\n",
            "Current minimum: -0.4400\n",
            "Iteration No: 25 started. Searching for the next optimal point.\n",
            "[0.01137441522458245, 18, 32, 0.5495472478985577, 0.24224176131038205] \n",
            "\n",
            "Iteration No: 25 ended. Search finished for the next optimal point.\n",
            "Time taken: 11.8600\n",
            "Function value obtained: -0.3750\n",
            "Current minimum: -0.4400\n",
            "Iteration No: 26 started. Searching for the next optimal point.\n",
            "[0.1, 86, 100, 0.05, 0.5978705583193785] \n",
            "\n",
            "Iteration No: 26 ended. Search finished for the next optimal point.\n",
            "Time taken: 0.9883\n",
            "Function value obtained: -0.0000\n",
            "Current minimum: -0.4400\n",
            "Iteration No: 27 started. Searching for the next optimal point.\n",
            "[0.1, 128, 100, 0.7982509857368218, 0.4657242407059794] \n",
            "\n",
            "Iteration No: 27 ended. Search finished for the next optimal point.\n",
            "Time taken: 12.6793\n",
            "Function value obtained: -0.4050\n",
            "Current minimum: -0.4400\n",
            "Iteration No: 28 started. Searching for the next optimal point.\n",
            "[0.002452563556217177, 114, 1, 0.6936585653465224, 0.35479665038814867] \n",
            "\n"
          ],
          "name": "stdout"
        }
      ]
    },
    {
      "cell_type": "code",
      "metadata": {
        "id": "fU9Wtj8HKEH-",
        "colab_type": "code",
        "colab": {}
      },
      "source": [
        "resultados_gp.x"
      ],
      "execution_count": 0,
      "outputs": []
    },
    {
      "cell_type": "code",
      "metadata": {
        "id": "6JZ7G_AGOllQ",
        "colab_type": "code",
        "colab": {}
      },
      "source": [
        ""
      ],
      "execution_count": 0,
      "outputs": []
    },
    {
      "cell_type": "code",
      "metadata": {
        "id": "-iSjnbLJ7kYQ",
        "colab_type": "code",
        "colab": {}
      },
      "source": [
        ""
      ],
      "execution_count": 0,
      "outputs": []
    }
  ]
}