{
 "cells": [
  {
   "cell_type": "markdown",
   "metadata": {},
   "source": [
    "# Comportamento do tráfego urbano da cidade de São Paulo\n",
    "## Prevendo a lentidão com base em dados do tráfego de São Paulo\n",
    "\n",
    "Objetivo: testar diferentes métodos de tratamentos de dados.\n",
    "\n",
    "Utilizando o dataset [\"Behavior of the urban traffic of the city of Sao Paulo in Brazil Data Set\"](https://archive.ics.uci.edu/ml/datasets/Behavior+of+the+urban+traffic+of+the+city+of+Sao+Paulo+in+Brazil) obtido no UCI Machine Learning Repository. \n",
    "Os autores do dataset são:  Ricardo Pinto Ferreira, Andrea Martiniano e Renato Jose Sassi. Autores também do paper:\n",
    "\n",
    "Ferreira, R. P., Affonso, C., & Sassi, R. J. (2011, November). Combination of Artificial Intelligence Techniques for Prediction the Behavior of Urban Vehicular Traffic in the City of São Paulo. In 10th Brazilian Congress on Computational Intelligence (CBIC) - Fortaleza, Ceará, Brazil. (pp.1-7), 2011."
   ]
  },
  {
   "cell_type": "markdown",
   "metadata": {},
   "source": [
    "## Importando os dados\n",
    "Importa-se os dados do arquivo arff, utilizando a biblioteca scipy. Em seguida é criado o dataframe do pandas."
   ]
  },
  {
   "cell_type": "code",
   "execution_count": 1,
   "metadata": {},
   "outputs": [
    {
     "data": {
      "text/html": [
       "<div>\n",
       "<style scoped>\n",
       "    .dataframe tbody tr th:only-of-type {\n",
       "        vertical-align: middle;\n",
       "    }\n",
       "\n",
       "    .dataframe tbody tr th {\n",
       "        vertical-align: top;\n",
       "    }\n",
       "\n",
       "    .dataframe thead th {\n",
       "        text-align: right;\n",
       "    }\n",
       "</style>\n",
       "<table border=\"1\" class=\"dataframe\">\n",
       "  <thead>\n",
       "    <tr style=\"text-align: right;\">\n",
       "      <th></th>\n",
       "      <th>Hour</th>\n",
       "      <th>Immobilized_bus</th>\n",
       "      <th>Broken_Truck</th>\n",
       "      <th>Vehicle_excess</th>\n",
       "      <th>Accident_victim</th>\n",
       "      <th>Running_over</th>\n",
       "      <th>Fire_vehicles</th>\n",
       "      <th>Occurrence_involving_freight</th>\n",
       "      <th>Incident_involving_dangerous_freight</th>\n",
       "      <th>Lack_of_electricity</th>\n",
       "      <th>Fire</th>\n",
       "      <th>Point_of_flooding</th>\n",
       "      <th>Manifestations</th>\n",
       "      <th>Defect_in_the_network_of_trolleybuses</th>\n",
       "      <th>Tree_on_the_road</th>\n",
       "      <th>Semaphore_off</th>\n",
       "      <th>Intermittent_Semaphore</th>\n",
       "      <th>Slowness_in_traffic_percent</th>\n",
       "    </tr>\n",
       "  </thead>\n",
       "  <tbody>\n",
       "    <tr>\n",
       "      <th>0</th>\n",
       "      <td>7:00</td>\n",
       "      <td>0.0</td>\n",
       "      <td>0.0</td>\n",
       "      <td>0.0</td>\n",
       "      <td>0.0</td>\n",
       "      <td>0.0</td>\n",
       "      <td>0.0</td>\n",
       "      <td>0.0</td>\n",
       "      <td>0.0</td>\n",
       "      <td>0.0</td>\n",
       "      <td>0.0</td>\n",
       "      <td>0.0</td>\n",
       "      <td>0.0</td>\n",
       "      <td>0.0</td>\n",
       "      <td>0.0</td>\n",
       "      <td>0.0</td>\n",
       "      <td>0.0</td>\n",
       "      <td>4.1</td>\n",
       "    </tr>\n",
       "    <tr>\n",
       "      <th>1</th>\n",
       "      <td>7:30</td>\n",
       "      <td>0.0</td>\n",
       "      <td>0.0</td>\n",
       "      <td>0.0</td>\n",
       "      <td>0.0</td>\n",
       "      <td>0.0</td>\n",
       "      <td>0.0</td>\n",
       "      <td>0.0</td>\n",
       "      <td>0.0</td>\n",
       "      <td>0.0</td>\n",
       "      <td>0.0</td>\n",
       "      <td>0.0</td>\n",
       "      <td>0.0</td>\n",
       "      <td>0.0</td>\n",
       "      <td>0.0</td>\n",
       "      <td>0.0</td>\n",
       "      <td>0.0</td>\n",
       "      <td>6.6</td>\n",
       "    </tr>\n",
       "    <tr>\n",
       "      <th>2</th>\n",
       "      <td>8:00</td>\n",
       "      <td>0.0</td>\n",
       "      <td>0.0</td>\n",
       "      <td>0.0</td>\n",
       "      <td>0.0</td>\n",
       "      <td>0.0</td>\n",
       "      <td>0.0</td>\n",
       "      <td>0.0</td>\n",
       "      <td>0.0</td>\n",
       "      <td>0.0</td>\n",
       "      <td>0.0</td>\n",
       "      <td>0.0</td>\n",
       "      <td>0.0</td>\n",
       "      <td>0.0</td>\n",
       "      <td>0.0</td>\n",
       "      <td>0.0</td>\n",
       "      <td>0.0</td>\n",
       "      <td>8.7</td>\n",
       "    </tr>\n",
       "    <tr>\n",
       "      <th>3</th>\n",
       "      <td>8:30</td>\n",
       "      <td>0.0</td>\n",
       "      <td>0.0</td>\n",
       "      <td>0.0</td>\n",
       "      <td>0.0</td>\n",
       "      <td>0.0</td>\n",
       "      <td>0.0</td>\n",
       "      <td>0.0</td>\n",
       "      <td>0.0</td>\n",
       "      <td>0.0</td>\n",
       "      <td>0.0</td>\n",
       "      <td>0.0</td>\n",
       "      <td>0.0</td>\n",
       "      <td>0.0</td>\n",
       "      <td>0.0</td>\n",
       "      <td>0.0</td>\n",
       "      <td>0.0</td>\n",
       "      <td>9.2</td>\n",
       "    </tr>\n",
       "    <tr>\n",
       "      <th>4</th>\n",
       "      <td>9:00</td>\n",
       "      <td>0.0</td>\n",
       "      <td>0.0</td>\n",
       "      <td>0.0</td>\n",
       "      <td>0.0</td>\n",
       "      <td>0.0</td>\n",
       "      <td>0.0</td>\n",
       "      <td>0.0</td>\n",
       "      <td>0.0</td>\n",
       "      <td>0.0</td>\n",
       "      <td>0.0</td>\n",
       "      <td>0.0</td>\n",
       "      <td>0.0</td>\n",
       "      <td>0.0</td>\n",
       "      <td>0.0</td>\n",
       "      <td>0.0</td>\n",
       "      <td>0.0</td>\n",
       "      <td>11.1</td>\n",
       "    </tr>\n",
       "  </tbody>\n",
       "</table>\n",
       "</div>"
      ],
      "text/plain": [
       "   Hour  Immobilized_bus  Broken_Truck  Vehicle_excess  Accident_victim  \\\n",
       "0  7:00              0.0           0.0             0.0              0.0   \n",
       "1  7:30              0.0           0.0             0.0              0.0   \n",
       "2  8:00              0.0           0.0             0.0              0.0   \n",
       "3  8:30              0.0           0.0             0.0              0.0   \n",
       "4  9:00              0.0           0.0             0.0              0.0   \n",
       "\n",
       "   Running_over  Fire_vehicles  Occurrence_involving_freight  \\\n",
       "0           0.0            0.0                           0.0   \n",
       "1           0.0            0.0                           0.0   \n",
       "2           0.0            0.0                           0.0   \n",
       "3           0.0            0.0                           0.0   \n",
       "4           0.0            0.0                           0.0   \n",
       "\n",
       "   Incident_involving_dangerous_freight  Lack_of_electricity  Fire  \\\n",
       "0                                   0.0                  0.0   0.0   \n",
       "1                                   0.0                  0.0   0.0   \n",
       "2                                   0.0                  0.0   0.0   \n",
       "3                                   0.0                  0.0   0.0   \n",
       "4                                   0.0                  0.0   0.0   \n",
       "\n",
       "   Point_of_flooding  Manifestations  Defect_in_the_network_of_trolleybuses  \\\n",
       "0                0.0             0.0                                    0.0   \n",
       "1                0.0             0.0                                    0.0   \n",
       "2                0.0             0.0                                    0.0   \n",
       "3                0.0             0.0                                    0.0   \n",
       "4                0.0             0.0                                    0.0   \n",
       "\n",
       "   Tree_on_the_road  Semaphore_off  Intermittent_Semaphore  \\\n",
       "0               0.0            0.0                     0.0   \n",
       "1               0.0            0.0                     0.0   \n",
       "2               0.0            0.0                     0.0   \n",
       "3               0.0            0.0                     0.0   \n",
       "4               0.0            0.0                     0.0   \n",
       "\n",
       "   Slowness_in_traffic_percent  \n",
       "0                          4.1  \n",
       "1                          6.6  \n",
       "2                          8.7  \n",
       "3                          9.2  \n",
       "4                         11.1  "
      ]
     },
     "execution_count": 1,
     "metadata": {},
     "output_type": "execute_result"
    }
   ],
   "source": [
    "import pandas as pd\n",
    "import numpy as np\n",
    "from scipy.io.arff import loadarff\n",
    "\n",
    "import warnings\n",
    "warnings.filterwarnings(\"ignore\")\n",
    "\n",
    "data = loadarff('data/tafego_sp.arff')\n",
    "df = pd.DataFrame(data[0])\n",
    "df['Hour'] = df['Hour'].str.decode(\"utf8\") # Hora importada como string\n",
    "df.head()"
   ]
  },
  {
   "cell_type": "markdown",
   "metadata": {},
   "source": [
    "Criando funções para transformar as horas em float e em valor senoidal \\[-1,1\\]"
   ]
  },
  {
   "cell_type": "code",
   "execution_count": 2,
   "metadata": {},
   "outputs": [],
   "source": [
    "import re\n",
    "import math\n",
    "def sin_time(x):\n",
    "    [hour, minute] = [int(x) for x in re.findall('\\d+', x)]\n",
    "    time = hour + minute/60\n",
    "    return math.sin(time*(2*math.pi)/24)\n",
    "\n",
    "def float_time(x):\n",
    "    [hour, minute] = [int(x) for x in re.findall('\\d+', x)]\n",
    "    time = hour + minute/60\n",
    "    return time\n"
   ]
  },
  {
   "cell_type": "markdown",
   "metadata": {},
   "source": [
    "Criando data frames para a comparação dos resultados entre métodos diferentes de tratamento das horas: senoidal, padronização, min-max e float."
   ]
  },
  {
   "cell_type": "code",
   "execution_count": 3,
   "metadata": {
    "scrolled": true
   },
   "outputs": [],
   "source": [
    "df['h_float'] = df['Hour']\n",
    "df['h_sin'] = df['Hour']\n",
    "df['h_nor'] = df['Hour']\n",
    "df['h_mm'] = df['Hour']\n",
    "\n",
    "df['h_float'] = df['h_float'].apply(float_time) # Float\n",
    "df['h_sin'] = df['h_sin'].apply(sin_time) # Sin\n",
    "df['h_nor'] = df['h_nor'].apply(float_time) \n",
    "df['h_mm'] = df['h_mm'].apply(float_time)\n",
    "df['h_nor'] = (df['h_nor'] - df['h_nor'].mean())/df['h_nor'].std() # Norm\n",
    "df['h_mm'] = (df['h_mm'] - df['h_mm'].min())/(df['h_mm'].max()-df['h_mm'].min()) # Min-max"
   ]
  },
  {
   "cell_type": "code",
   "execution_count": 4,
   "metadata": {},
   "outputs": [],
   "source": [
    "df_float = df.drop(['Hour', 'h_sin', 'h_nor', 'h_mm'], axis=1)\n",
    "df_sin = df.drop(['Hour', 'h_nor', 'h_mm', 'h_float'], axis=1)\n",
    "df_nor = df.drop(['Hour', 'h_sin', 'h_mm', 'h_float'], axis=1)\n",
    "df_mm = df.drop(['Hour', 'h_sin', 'h_nor', 'h_float'], axis=1)\n",
    "del df"
   ]
  },
  {
   "cell_type": "code",
   "execution_count": 5,
   "metadata": {},
   "outputs": [
    {
     "data": {
      "text/plain": [
       "<Figure size 1600x600 with 1 Axes>"
      ]
     },
     "metadata": {},
     "output_type": "display_data"
    }
   ],
   "source": [
    "import matplotlib.pyplot as plt\n",
    "import seaborn as sns\n",
    "\n",
    "sns.set(style=\"ticks\")\n",
    "plt.figure(figsize=(16, 6))\n",
    "sns.distplot(df_float.h_float, label='Float')\n",
    "sns.distplot(df_mm.h_mm, label='Max-min')\n",
    "sns.distplot(df_nor.h_nor, label='Padronizado')\n",
    "plt.legend()\n",
    "plt.show()"
   ]
  },
  {
   "cell_type": "markdown",
   "metadata": {},
   "source": [
    "O min-max e padronização são basicamente _scales_ do float. O padrão senoidal tem o potencial de manter o padrão cíclico das horas do dia."
   ]
  },
  {
   "cell_type": "code",
   "execution_count": 6,
   "metadata": {},
   "outputs": [
    {
     "data": {
      "image/png": "[encoded data removed]",
      "text/plain": [
       "<Figure size 720x432 with 1 Axes>"
      ]
     },
     "metadata": {
      "needs_background": "light"
     },
     "output_type": "display_data"
    }
   ],
   "source": [
    "plt.figure(figsize=(10, 6))\n",
    "sns.distplot(df_sin.h_sin, label='Senoidal')\n",
    "plt.legend()\n",
    "plt.show()"
   ]
  },
  {
   "cell_type": "code",
   "execution_count": 7,
   "metadata": {},
   "outputs": [],
   "source": [
    "y = df_float['Slowness_in_traffic_percent']\n",
    "X_float = df_float.drop(['Slowness_in_traffic_percent'], axis=1)\n",
    "X_sin = df_sin.drop(['Slowness_in_traffic_percent'], axis=1)\n",
    "X_mm = df_mm.drop(['Slowness_in_traffic_percent'], axis=1)\n",
    "X_nor = df_nor.drop(['Slowness_in_traffic_percent'], axis=1)"
   ]
  },
  {
   "cell_type": "code",
   "execution_count": 8,
   "metadata": {},
   "outputs": [],
   "source": [
    "from sklearn.model_selection import train_test_split"
   ]
  },
  {
   "cell_type": "code",
   "execution_count": 9,
   "metadata": {},
   "outputs": [
    {
     "name": "stdout",
     "output_type": "stream",
     "text": [
      "0.565131449806957\n"
     ]
    }
   ],
   "source": [
    "from sklearn.tree import DecisionTreeRegressor\n",
    "from sklearn.ensemble import RandomForestRegressor\n",
    "import xgboost\n",
    "from sklearn.model_selection import cross_val_score\n",
    "\n",
    "sum = 0\n",
    "for n in range(1000):\n",
    "    X_f_treino, X_f_teste, y_f_treino, y_f_teste = train_test_split(X_float, y, test_size=0.20)\n",
    "    modelo_f = xgboost.XGBRegressor(verbosity=0)\n",
    "    modelo_f.fit(X_f_treino, y_f_treino)\n",
    "    sum=modelo_f.score(X_f_teste, y_f_teste)+sum\n",
    "    \n",
    "print(sum/1000)    "
   ]
  },
  {
   "cell_type": "code",
   "execution_count": 10,
   "metadata": {},
   "outputs": [
    {
     "name": "stdout",
     "output_type": "stream",
     "text": [
      "0.4991571166476357\n"
     ]
    }
   ],
   "source": [
    "sum = 0\n",
    "for n in range(1000):\n",
    "    X_s_treino, X_s_teste, y_s_treino, y_s_teste = train_test_split(X_sin, y, test_size=0.20)\n",
    "    modelo_s = xgboost.XGBRegressor(verbosity=0)\n",
    "    modelo_s.fit(X_s_treino, y_s_treino)\n",
    "    modelo_s.score(X_s_teste, y_s_teste)\n",
    "    sum=modelo_s.score(X_s_teste, y_s_teste)+sum\n",
    "    \n",
    "print(sum/1000)"
   ]
  },
  {
   "cell_type": "code",
   "execution_count": 11,
   "metadata": {},
   "outputs": [
    {
     "name": "stdout",
     "output_type": "stream",
     "text": [
      "0.556262083927909\n"
     ]
    }
   ],
   "source": [
    "sum = 0\n",
    "for n in range(1000):\n",
    "    X_n_treino, X_n_teste, y_n_treino, y_n_teste = train_test_split(X_nor, y, test_size=0.20)\n",
    "    modelo_n = xgboost.XGBRegressor(verbosity=0)\n",
    "    modelo_n.fit(X_n_treino, y_n_treino)\n",
    "    modelo_n.score(X_n_teste, y_n_teste)\n",
    "    sum=modelo_n.score(X_n_teste, y_n_teste)+sum\n",
    "    \n",
    "print(sum/1000)"
   ]
  },
  {
   "cell_type": "code",
   "execution_count": 12,
   "metadata": {},
   "outputs": [
    {
     "name": "stdout",
     "output_type": "stream",
     "text": [
      "0.5562196211230909\n"
     ]
    }
   ],
   "source": [
    "sum = 0\n",
    "for n in range(1000):\n",
    "    X_m_treino, X_m_teste, y_m_treino, y_m_teste = train_test_split(X_mm, y, test_size=0.20)\n",
    "    modelo_m = xgboost.XGBRegressor(verbosity=0)\n",
    "    modelo_m.fit(X_m_treino, y_m_treino)\n",
    "    modelo_m.score(X_m_teste, y_m_teste)\n",
    "    sum=modelo_m.score(X_m_teste, y_m_teste)+sum\n",
    "    \n",
    "print(sum/1000)"
   ]
  },
  {
   "cell_type": "markdown",
   "metadata": {},
   "source": [
    "A forma senoidal foi a pior entre as avaliadas. As outras tiveram perfomance parecida."
   ]
  },
  {
   "cell_type": "code",
   "execution_count": 13,
   "metadata": {},
   "outputs": [
    {
     "name": "stdout",
     "output_type": "stream",
     "text": [
      "0.5570126860022326\n"
     ]
    }
   ],
   "source": [
    "df = df_float\n",
    "df = (df - df.mean())/df.std()\n",
    "y = df['Slowness_in_traffic_percent']\n",
    "X = df.drop(['Slowness_in_traffic_percent'], axis=1)\n",
    "\n",
    "sum = 0\n",
    "for n in range(1000):\n",
    "    X_treino, X_teste, y_treino, y_teste = train_test_split(X, y, test_size=0.20)\n",
    "    modelo_f = xgboost.XGBRegressor(verbosity=0)\n",
    "    modelo_f.fit(X_treino, y_treino)\n",
    "    sum=modelo_f.score(X_teste, y_teste)+sum\n",
    "    \n",
    "print(sum/1000)   "
   ]
  },
  {
   "cell_type": "markdown",
   "metadata": {},
   "source": [
    "Padronizar todo o dataframe não trouxe ganhos visíveis."
   ]
  }
 ],
 "metadata": {
  "kernelspec": {
   "display_name": "Python 3",
   "language": "python",
   "name": "python3"
  },
  "language_info": {
   "codemirror_mode": {
    "name": "ipython",
    "version": 3
   },
   "file_extension": ".py",
   "mimetype": "text/x-python",
   "name": "python",
   "nbconvert_exporter": "python",
   "pygments_lexer": "ipython3",
   "version": "3.7.1"
  }
 },
 "nbformat": 4,
 "nbformat_minor": 2
}
